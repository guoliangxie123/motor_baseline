{
 "cells": [
  {
   "cell_type": "code",
   "execution_count": 20,
   "metadata": {
    "collapsed": true
   },
   "outputs": [
    {
     "name": "stderr",
     "output_type": "stream",
     "text": [
      "C:\\Users\\1212214\\AppData\\Local\\Temp\\ipykernel_10488\\3931949955.py:2: FutureWarning: The error_bad_lines argument has been deprecated and will be removed in a future version. Use on_bad_lines in the future.\n",
      "\n",
      "\n",
      "  log1 = pd.read_csv(\"WarningChange_白班.csv\",error_bad_lines=False )\n",
      "b'Skipping line 131: expected 5 fields, saw 6\\nSkipping line 197: expected 5 fields, saw 6\\nSkipping line 274: expected 5 fields, saw 6\\nSkipping line 330: expected 5 fields, saw 6\\nSkipping line 384: expected 5 fields, saw 6\\nSkipping line 459: expected 5 fields, saw 6\\nSkipping line 516: expected 5 fields, saw 6\\nSkipping line 583: expected 5 fields, saw 6\\nSkipping line 645: expected 5 fields, saw 6\\nSkipping line 667: expected 5 fields, saw 6\\nSkipping line 714: expected 5 fields, saw 6\\nSkipping line 717: expected 5 fields, saw 6\\nSkipping line 761: expected 5 fields, saw 6\\nSkipping line 826: expected 5 fields, saw 6\\nSkipping line 829: expected 5 fields, saw 6\\nSkipping line 841: expected 5 fields, saw 6\\nSkipping line 843: expected 5 fields, saw 6\\nSkipping line 845: expected 5 fields, saw 6\\nSkipping line 919: expected 5 fields, saw 6\\nSkipping line 996: expected 5 fields, saw 6\\n'\n"
     ]
    },
    {
     "data": {
      "text/plain": "   报警类别   报警ID                          报警名称                  开始时间  \\\n0   NaN   11.9            System_A120系统控制区报警  '2022-10-23 08:00:00   \n1   NaN  361.2     OM_W023出料机区系统警告出托盘等待物流线警告  '2022-10-23 08:00:16   \n2   NaN    2.4  System_A025系统控制区报警安全门继电器反馈报警  '2022-10-23 08:07:16   \n3   NaN    2.5    System_A026系统控制区报警卷绕前门带电磁锁  '2022-10-23 08:07:14   \n4   NaN    2.6   System_A027系统控制区报警卷绕前门不带电磁锁  '2022-10-23 08:07:16   \n\n                   结束时间  \n0  '2022-10-23 08:01:58  \n1  '2022-10-23 08:04:56  \n2  '2022-10-23 08:08:54  \n3  '2022-10-23 08:08:54  \n4  '2022-10-23 08:08:54  ",
      "text/html": "<div>\n<style scoped>\n    .dataframe tbody tr th:only-of-type {\n        vertical-align: middle;\n    }\n\n    .dataframe tbody tr th {\n        vertical-align: top;\n    }\n\n    .dataframe thead th {\n        text-align: right;\n    }\n</style>\n<table border=\"1\" class=\"dataframe\">\n  <thead>\n    <tr style=\"text-align: right;\">\n      <th></th>\n      <th>报警类别</th>\n      <th>报警ID</th>\n      <th>报警名称</th>\n      <th>开始时间</th>\n      <th>结束时间</th>\n    </tr>\n  </thead>\n  <tbody>\n    <tr>\n      <th>0</th>\n      <td>NaN</td>\n      <td>11.9</td>\n      <td>System_A120系统控制区报警</td>\n      <td>'2022-10-23 08:00:00</td>\n      <td>'2022-10-23 08:01:58</td>\n    </tr>\n    <tr>\n      <th>1</th>\n      <td>NaN</td>\n      <td>361.2</td>\n      <td>OM_W023出料机区系统警告出托盘等待物流线警告</td>\n      <td>'2022-10-23 08:00:16</td>\n      <td>'2022-10-23 08:04:56</td>\n    </tr>\n    <tr>\n      <th>2</th>\n      <td>NaN</td>\n      <td>2.4</td>\n      <td>System_A025系统控制区报警安全门继电器反馈报警</td>\n      <td>'2022-10-23 08:07:16</td>\n      <td>'2022-10-23 08:08:54</td>\n    </tr>\n    <tr>\n      <th>3</th>\n      <td>NaN</td>\n      <td>2.5</td>\n      <td>System_A026系统控制区报警卷绕前门带电磁锁</td>\n      <td>'2022-10-23 08:07:14</td>\n      <td>'2022-10-23 08:08:54</td>\n    </tr>\n    <tr>\n      <th>4</th>\n      <td>NaN</td>\n      <td>2.6</td>\n      <td>System_A027系统控制区报警卷绕前门不带电磁锁</td>\n      <td>'2022-10-23 08:07:16</td>\n      <td>'2022-10-23 08:08:54</td>\n    </tr>\n  </tbody>\n</table>\n</div>"
     },
     "execution_count": 20,
     "metadata": {},
     "output_type": "execute_result"
    }
   ],
   "source": [
    "import pandas as pd\n",
    "log1 = pd.read_csv(\"WarningChange_白班.csv\",error_bad_lines=False )\n",
    "# log2 = pd.read_csv(\"WarningChange_夜班.csv\")\n",
    "\n",
    "# log_fl = pd.concat([log1,log2])\n",
    "log1.head()"
   ]
  },
  {
   "cell_type": "code",
   "execution_count": 22,
   "outputs": [
    {
     "ename": "SyntaxError",
     "evalue": "leading zeros in decimal integer literals are not permitted; use an 0o prefix for octal integers (3185509179.py, line 1)",
     "output_type": "error",
     "traceback": [
      "\u001B[1;36m  Cell \u001B[1;32mIn [22], line 1\u001B[1;36m\u001B[0m\n\u001B[1;33m    2022-10-23 08:41:11 > 2022-10-23 08:41:10\u001B[0m\n\u001B[1;37m               ^\u001B[0m\n\u001B[1;31mSyntaxError\u001B[0m\u001B[1;31m:\u001B[0m leading zeros in decimal integer literals are not permitted; use an 0o prefix for octal integers\n"
     ]
    }
   ],
   "source": [
    "2022-10-23 08:41:11 > 2022-10-23 08:41:10"
   ],
   "metadata": {
    "collapsed": false,
    "pycharm": {
     "name": "#%%\n"
    }
   }
  }
 ],
 "metadata": {
  "kernelspec": {
   "display_name": "Python 3",
   "language": "python",
   "name": "python3"
  },
  "language_info": {
   "codemirror_mode": {
    "name": "ipython",
    "version": 2
   },
   "file_extension": ".py",
   "mimetype": "text/x-python",
   "name": "python",
   "nbconvert_exporter": "python",
   "pygments_lexer": "ipython2",
   "version": "2.7.6"
  }
 },
 "nbformat": 4,
 "nbformat_minor": 0
}